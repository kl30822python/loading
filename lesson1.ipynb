{
 "cells": [
  {
   "cell_type": "code",
   "execution_count": null,
   "metadata": {},
   "outputs": [],
   "source": [
    "import requests\n",
    "url = 'https://api.github.com/events'\n",
    "try:\n",
    "    response = requests.request('GET',url)\n",
    "except requests.ConnectionError:\n",
    "    print('連線有錯誤了')\n",
    "except requests.HTTPError:\n",
    "    print('http有錯誤了')\n",
    "except requests.RequestException:\n",
    "    print('請求有錯誤了')  \n",
    "\n",
    "if response.status_code != 200:\n",
    "    print(\"有錯誤了，非200\")  \n",
    "\n",
    "#print(response.content)\n",
    "print(response.text)"
   ]
  }
 ],
 "metadata": {
  "kernelspec": {
   "display_name": "Python 3",
   "language": "python",
   "name": "python3"
  },
  "language_info": {
   "codemirror_mode": {
    "name": "ipython",
    "version": 3
   },
   "file_extension": ".py",
   "mimetype": "text/x-python",
   "name": "python",
   "nbconvert_exporter": "python",
   "pygments_lexer": "ipython3",
   "version": "3.8.6"
  },
  "orig_nbformat": 4
 },
 "nbformat": 4,
 "nbformat_minor": 2
}
